{
  "cells": [
    {
      "cell_type": "markdown",
      "metadata": {
        "id": "v8pFWwviib2C"
      },
      "source": [
        "![Growdev](https://www.growdev.com.br/assets/images/logo_growdev.png)"
      ]
    },
    {
      "cell_type": "markdown",
      "metadata": {
        "id": "6Tkl4_HxifXZ"
      },
      "source": [
        "![Formação Engenharia de Dados](https://d335luupugsy2.cloudfront.net/cms/files/524558/1707226566/$occu5m8t1op)"
      ]
    },
    {
      "cell_type": "markdown",
      "metadata": {
        "id": "ty7Bzyl1i9bN"
      },
      "source": [
        "Este material tem como objetivo incentivar a prática dos conteúdos estudados até o momento, e a pesquisa. Tenha em consideração que o exercício foi pensado para incentivar a prática dos conteúdos estudados até então, porém aprender a pesquisar faz parte do processo de aprendizagem.\n",
        "\n",
        "Fique tranquilo, faça os exercícios com calma, e boa prática!\n"
      ]
    },
    {
      "cell_type": "markdown",
      "metadata": {
        "id": "DU5-yCQwjx3V"
      },
      "source": [
        "#Orientações:\n",
        "\n",
        " - Faça uma copia deste arquivo\n",
        " - Após concluir os exercicios, suba seu exercicio para o GitHub e compartilhe o link no **google** Classroom\n"
      ]
    },
    {
      "cell_type": "markdown",
      "metadata": {
        "id": "EzT810tnlmfE"
      },
      "source": [
        "#Exercícios"
      ]
    },
    {
      "cell_type": "markdown",
      "metadata": {
        "id": "rDqBAimhSq_C"
      },
      "source": [
        "#Listas"
      ]
    },
    {
      "cell_type": "markdown",
      "metadata": {
        "id": "GoGkz2n-SudC"
      },
      "source": [
        "Para esse exercicio você tera alguns desafios, separei eles em partes, vamos lá?\n",
        "\n",
        "1 - Crie uma lista com 100 números inteiros.\n",
        "- Pode ser uma sequência, ou caso queira se desafiar faça de números aleatorios.\n",
        "- Os dados não devem ser inseridos manualmente, utilize de um laço de repetição para adicionar os elementos a Lista.\n"
      ]
    },
    {
      "cell_type": "code",
      "execution_count": null,
      "metadata": {
        "id": "lLYBJr0KSuJW"
      },
      "outputs": [],
      "source": [
        "import random\n",
        "lista = []\n",
        "for _ in range(0,100): # vai de 0 a 99\n",
        "    lista.append(random.randint(1, 1000))# gera numeros pseudo aleatórios no intervalo de 1 a 1000 \n",
        "print(lista)   "
      ]
    },
    {
      "cell_type": "markdown",
      "metadata": {
        "id": "LQ0SVqxyVTD5"
      },
      "source": [
        "2 - Calcule e exiba a soma de todos os números da lista."
      ]
    },
    {
      "cell_type": "code",
      "execution_count": null,
      "metadata": {
        "id": "6HP8yU1bVS0F"
      },
      "outputs": [],
      "source": [
        "soma = 0\n",
        "\n",
        "for i in range (len(lista)-1):\n",
        "    soma += lista[i]\n",
        "print(f\"A soma de todos os números da lista é = {soma}\")   "
      ]
    },
    {
      "cell_type": "markdown",
      "metadata": {
        "id": "HYQGLklTTPMx"
      },
      "source": [
        "3 - Exiba o maior e o menor número da lista."
      ]
    },
    {
      "cell_type": "code",
      "execution_count": null,
      "metadata": {
        "id": "q_UZx7EETT6S"
      },
      "outputs": [],
      "source": [
        "maior = max(lista)\n",
        "menor = min(lista)\n",
        "print(f\"O maior número da lista é {maior}, e o menor é {menor}\") "
      ]
    },
    {
      "cell_type": "markdown",
      "metadata": {
        "id": "1iU6ZtRhVN9i"
      },
      "source": [
        "4 - Pesquise se o número 77 esta presente na lista e exiba:\n",
        "- Quantas vezes esse número aparece na lista\n",
        "- Se aparece em qual ou quais posições(Indice)."
      ]
    },
    {
      "cell_type": "code",
      "execution_count": null,
      "metadata": {
        "id": "OGVH4AoGWU2R"
      },
      "outputs": [],
      "source": [
        "cont = 0\n",
        "numero_pesquisado = 77\n",
        "if numero_pesquisado in lista:\n",
        "    cont+=1\n",
        "if cont > 0:    \n",
        "   print(f\"O número {numero_pesquisado} aparece {cont} vezes na lista.\")   \n",
        "else:\n",
        "    print(f\"O número {numero_pesquisado} não está na lista.\")\n",
        "    "
      ]
    },
    {
      "cell_type": "markdown",
      "metadata": {
        "id": "jrwycUMvWVSu"
      },
      "source": [
        "5 - Ordene a lista de forma descendente e exiba."
      ]
    },
    {
      "cell_type": "code",
      "execution_count": null,
      "metadata": {
        "id": "RvRpLp87e5CB"
      },
      "outputs": [],
      "source": [
        "print(sorted(lista))"
      ]
    },
    {
      "cell_type": "markdown",
      "metadata": {
        "id": "Be68CsC2OftE"
      },
      "source": [
        "## Tuplas:"
      ]
    },
    {
      "cell_type": "markdown",
      "metadata": {
        "id": "SQzRrAmq1SnR"
      },
      "source": [
        "Crie uma tupla com os dias da semana e peça para o usuário digitar um número de 1 a 7. Exiba o dia correspondente."
      ]
    },
    {
      "cell_type": "code",
      "execution_count": 59,
      "metadata": {
        "id": "7BqDEfeq1TZE"
      },
      "outputs": [
        {
          "name": "stdout",
          "output_type": "stream",
          "text": [
            "Entrada inválida! Por favor, um número!\n",
            "Entrada inválida! Por favor, um número!\n",
            "O dia da semana correspondente ao número 6 é Sábado\n"
          ]
        }
      ],
      "source": [
        "dias_da_semana = (\"Domingo\", \"Segunda-feira\",\"Terça-feira\",\"Quarta-feira\",\"Quinta-feira\",\"Sexta-feira\",\"Sábado\")\n",
        "\n",
        "entrada_usuario = input(\"Digite um número entre 0 e 6:\")\n",
        "while(not entrada_usuario.isdigit()):\n",
        "    print(f\"Entrada inválida! Por favor, um número inteiro!\")\n",
        "    entrada_usuario = input(\"Digite um número entre 0 e 6:\")\n",
        "\n",
        "converte_para_int = int(entrada_usuario)\n",
        "if converte_para_int <= 7:\n",
        "    print(f\"O dia da semana correspondente ao número {converte_para_int} é {dias_da_semana[converte_para_int]}\")\n",
        "else:\n",
        "    print(f\"O numero {converte_para_int} está fora do intervalo entre 0 e 6!\")"
      ]
    },
    {
      "cell_type": "markdown",
      "metadata": {
        "id": "J9LW9fru7hv6"
      },
      "source": [
        "Crie duas tuplas com números inteiros e crie uma terceira tupla com a concatenação das duas."
      ]
    },
    {
      "cell_type": "code",
      "execution_count": 61,
      "metadata": {
        "id": "J2pBsS-f7idJ"
      },
      "outputs": [
        {
          "name": "stdout",
          "output_type": "stream",
          "text": [
            "(1, 10, 20, 30, 40, 50, 60, 70, 80, 90, 5, 15, 25, 35, 45, 55, 65, 75, 85, 95)\n"
          ]
        }
      ],
      "source": [
        "tupla_1 = (1, 10, 20, 30, 40, 50, 60, 70, 80, 90)\n",
        "tupla_2 = (5, 15, 25, 35, 45, 55, 65, 75, 85, 95)\n",
        "tupla_3 = tupla_1 + tupla_2\n",
        "\n",
        "print(tupla_3)\n"
      ]
    },
    {
      "cell_type": "markdown",
      "metadata": {
        "id": "ytDz_SXB7o-8"
      },
      "source": [
        " Crie uma tupla com alguns elementos e remova um elemento específico."
      ]
    },
    {
      "cell_type": "code",
      "execution_count": 66,
      "metadata": {
        "id": "QvIAx6HP7pbh"
      },
      "outputs": [
        {
          "name": "stdout",
          "output_type": "stream",
          "text": [
            "('cavalo', 'cachorro', 'gato', 'passaro', 'ovelha')\n"
          ]
        }
      ],
      "source": [
        "elementos = (\"cavalo\", \"cachorro\", \"gato\", \"passaro\", \"oculos\", \"ovelha\")\n",
        "sem_um_elemento = ()\n",
        "numero_do_elemento_a_ser_removido = 5\n",
        "cont = 0\n",
        "\n",
        "for iten in elementos:\n",
        "    cont += 1\n",
        "    if cont != numero_do_elemento_a_ser_removido:\n",
        "        sem_um_elemento += (iten,)\n",
        "\n",
        "print(sem_um_elemento)\n"
      ]
    },
    {
      "cell_type": "markdown",
      "metadata": {
        "id": "v_JM0Has1pPL"
      },
      "source": [
        "#Sets"
      ]
    },
    {
      "cell_type": "markdown",
      "metadata": {
        "id": "Urrv-Y291roJ"
      },
      "source": [
        "Crie dois sets com cores diferentes e exiba na tela a união dos dois sets."
      ]
    },
    {
      "cell_type": "code",
      "execution_count": 69,
      "metadata": {
        "id": "FM4S-PEa1zSW"
      },
      "outputs": [
        {
          "name": "stdout",
          "output_type": "stream",
          "text": [
            "{'cinza', 'amarelo', 'roxo', 'vermelho', 'verde', 'azul'}\n"
          ]
        }
      ],
      "source": [
        "set_1 = {\"vermelho\", \"verde\", \"azul\"}\n",
        "set_2 = {\"roxo\", \"amarelo\", \"cinza\"}\n",
        "uniao = set_1.union(set_2)\n",
        "\n",
        "print(uniao)"
      ]
    },
    {
      "cell_type": "markdown",
      "metadata": {
        "id": "0q0tG4eG1zkL"
      },
      "source": [
        "Crie uma lista com alguns números repetidos. Converta essa lista em um set para remover as duplicatas e exiba o resultado."
      ]
    },
    {
      "cell_type": "code",
      "execution_count": 75,
      "metadata": {
        "id": "j4okoTWR2I_R"
      },
      "outputs": [
        {
          "name": "stdout",
          "output_type": "stream",
          "text": [
            "Lista inteira [2, 4, 2, 5, 4, 1, 1, 1, 1, 3, 4, 5, 1, 4, 2, 3, 3, 3, 3, 2]\n",
            "Lista convertida em Set {1, 2, 3, 4, 5}\n"
          ]
        }
      ],
      "source": [
        "import random\n",
        "lista = []\n",
        "\n",
        "for i in range(20):\n",
        "    lista.append(random.randint(1,5))\n",
        "\n",
        "print(f\"Lista inteira {lista}\")\n",
        "print(f\"Lista convertida em Set {set(lista)}\")   \n"
      ]
    },
    {
      "cell_type": "markdown",
      "metadata": {
        "id": "4MCBgr-k1fvU"
      },
      "source": [
        "#Dicionários:"
      ]
    },
    {
      "cell_type": "markdown",
      "metadata": {
        "id": "0A-DeyIMPh4g"
      },
      "source": [
        " Crie um dicionário com os nomes de algumas frutas e suas respectivas cores. Exiba na tela somente as frutas que são vermelhas."
      ]
    },
    {
      "cell_type": "code",
      "execution_count": 83,
      "metadata": {
        "id": "7jlD2DV4Pjom"
      },
      "outputs": [
        {
          "name": "stdout",
          "output_type": "stream",
          "text": [
            "maçã\n",
            "pitanga\n"
          ]
        }
      ],
      "source": [
        "frutas = {\"maçã\": \"vermelho\", \"banana\": \"amarelo\", \"limão\": \"verde\", \"uva\": \"roxo\", \"pitanga\":\"vermelho\"}\n",
        "\n",
        "for fruta, cor in frutas.items():\n",
        "    if cor == \"vermelho\":\n",
        "        print(fruta)\n"
      ]
    },
    {
      "cell_type": "markdown",
      "metadata": {
        "id": "q-XV14A-PmSa"
      },
      "source": [
        "Crie um dicionário com o nome e a idade de três pessoas. Busque por  um nome e exiba a idade correspondente."
      ]
    },
    {
      "cell_type": "code",
      "execution_count": 89,
      "metadata": {
        "id": "8rPH-lzG2gvh"
      },
      "outputs": [
        {
          "name": "stdout",
          "output_type": "stream",
          "text": [
            "Nome não encontrado!\n"
          ]
        }
      ],
      "source": [
        "nome_e_idade = {\"João\":13, \"Maria\":33, \"Fillipe\":30}\n",
        "nome_busca = \"Fillipe\"\n",
        "\n",
        "if nome_busca in nome_e_idade:\n",
        "        print(nome_e_idade[nome_busca])\n",
        "else:\n",
        "        print(\"Nome não encontrado!\")        "
      ]
    },
    {
      "cell_type": "markdown",
      "metadata": {
        "id": "yEn6q_MP5SdW"
      },
      "source": [
        "Crie um dicionário com os nomes e idades de algumas pessoas. Peça para o usuário digitar um nome e sua nova idade, e atualize o dicionário com essa informação."
      ]
    },
    {
      "cell_type": "code",
      "execution_count": 90,
      "metadata": {
        "id": "H-RHnfMm5TcR"
      },
      "outputs": [
        {
          "name": "stdout",
          "output_type": "stream",
          "text": [
            "Dicionário atualizado: {'João': 13, 'Maria': 33, 'Fillipe': 78}:\n"
          ]
        }
      ],
      "source": [
        "nome_e_idade = {\"João\":13, \"Maria\":33, \"Fillipe\":30}\n",
        "\n",
        "nome_busca = input(\"Digite um nome para a busca: \")\n",
        "nova_idade = int(input(\"Digite a nova idade da pessoa: \"))\n",
        "nome_e_idade[nome_busca] = nova_idade\n",
        "print(f\"Dicionário atualizado: {nome_e_idade}:\")\n"
      ]
    },
    {
      "cell_type": "markdown",
      "metadata": {
        "id": "Jeelh1Xw2hab"
      },
      "source": [
        "Desafio Dicionários:\n",
        "\n",
        "Busque o código desenvolvido para o exercicio abaixo e altere o algoritmo para:\n",
        "\n",
        " - Salvar o resultado da eleição em um dícionário.\n",
        "\n",
        "\n",
        "Exemplo de saida do dicionario: {\"Candidato 1\": 2, \"Candidato 2\": 2, \"Voto Nulo\": 0, \"Voto Branco\": 1}\n",
        "\n",
        "\n",
        "Este exercicio foi realizado na lista da semana passada, exercicio de número 4:"
      ]
    },
    {
      "cell_type": "markdown",
      "metadata": {
        "id": "cDnoQXk83e5B"
      },
      "source": [
        "\n",
        "\"Em uma eleição presidencial existem dois candidatos. Os votos são informados através de códigos. Os dados utilizados para a contagem dos votos obedecem à seguinte codificação:\n",
        "\n",
        "1,2 = voto para os respectivos candidatos\n",
        "\n",
        "3 = voto nulo\n",
        "\n",
        "4 = voto em branco;\n",
        "\n",
        "Elabore um programa que leia o código de votação de 5 eleitores. Calcule e escreva: total de votos para cada candidato total de votos nulos total de votos em branco\""
      ]
    },
    {
      "cell_type": "code",
      "execution_count": 91,
      "metadata": {
        "id": "CRlV5NE82kpE"
      },
      "outputs": [
        {
          "name": "stdout",
          "output_type": "stream",
          "text": [
            "Resultado da eleição: {'Candidato 1': 3, 'Candidato 2': 2, 'Voto Nulo': 0, 'Voto Branco': 0}\n"
          ]
        }
      ],
      "source": [
        "votos_candidato1 = 0\n",
        "votos_candidato2 = 0\n",
        "votos_nulos = 0\n",
        "votos_branco = 0\n",
        "\n",
        "for i in range(5):\n",
        "    voto = int(input(f\"Digite o código de votação do {i+1}º eleitor:\"))\n",
        "    \n",
        "    if voto == 1:\n",
        "        votos_candidato1 += 1\n",
        "    elif voto == 2:\n",
        "        votos_candidato2 += 1\n",
        "    elif voto == 3:\n",
        "        votos_nulos += 1\n",
        "    elif voto == 4:\n",
        "        votos_branco += 1\n",
        "    else:\n",
        "        print(\"Código de votação inválido.\")\n",
        "\n",
        "resultado_eleicao = {\n",
        "    \"Candidato 1\": votos_candidato1,\n",
        "    \"Candidato 2\": votos_candidato2,\n",
        "    \"Voto Nulo\": votos_nulos,\n",
        "    \"Voto Branco\": votos_branco\n",
        "}\n",
        "\n",
        "print(\"Resultado da eleição:\", resultado_eleicao)\n"
      ]
    },
    {
      "cell_type": "markdown",
      "metadata": {
        "id": "ffEKF4Kx5eQu"
      },
      "source": [
        "#Listas por Compreensão:"
      ]
    },
    {
      "cell_type": "markdown",
      "metadata": {
        "id": "IrQvRhQM5oj6"
      },
      "source": [
        "Crie uma lista com os números Impares de 1 a 20 utilizando listas por compreensão."
      ]
    },
    {
      "cell_type": "code",
      "execution_count": 93,
      "metadata": {
        "id": "lqgX2B6x5fLc"
      },
      "outputs": [
        {
          "name": "stdout",
          "output_type": "stream",
          "text": [
            "Números ímpares de 1 a 20: [1, 3, 5, 7, 9, 11, 13, 15, 17, 19]\n"
          ]
        }
      ],
      "source": [
        "numeros_impares = [numero for numero in range(1, 21) if numero % 2 != 0]\n",
        "print(f\"Números ímpares de 1 a 20: {numeros_impares}\")\n"
      ]
    },
    {
      "cell_type": "markdown",
      "metadata": {},
      "source": [
        "Crie uma lista com as letras da frase \"Sou estudante de dados\", utilizando listas por compreensão."
      ]
    },
    {
      "cell_type": "code",
      "execution_count": 94,
      "metadata": {},
      "outputs": [
        {
          "name": "stdout",
          "output_type": "stream",
          "text": [
            "Lista de letras da frase: ['S', 'o', 'u', 'e', 's', 't', 'u', 'd', 'a', 'n', 't', 'e', 'd', 'e', 'd', 'a', 'd', 'o', 's']\n"
          ]
        }
      ],
      "source": [
        "frase = \"Sou estudante de dados\"\n",
        "letras_frase = [letra for letra in frase if letra != ' ']\n",
        "print(f\"Lista de letras da frase: {letras_frase}\")\n"
      ]
    }
  ],
  "metadata": {
    "colab": {
      "provenance": []
    },
    "kernelspec": {
      "display_name": "Python 3",
      "name": "python3"
    },
    "language_info": {
      "codemirror_mode": {
        "name": "ipython",
        "version": 3
      },
      "file_extension": ".py",
      "mimetype": "text/x-python",
      "name": "python",
      "nbconvert_exporter": "python",
      "pygments_lexer": "ipython3",
      "version": "3.11.7"
    }
  },
  "nbformat": 4,
  "nbformat_minor": 0
}
